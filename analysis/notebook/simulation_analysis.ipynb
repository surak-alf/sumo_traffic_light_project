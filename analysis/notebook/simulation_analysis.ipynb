{
 "cells": [
  {
   "cell_type": "code",
   "execution_count": 14,
   "id": "07b32649",
   "metadata": {},
   "outputs": [
    {
     "name": "stdout",
     "output_type": "stream",
     "text": [
      "Output directory: C:\\Users\\Maintenant prêt\\Desktop\\practice projects\\sumo_traffic_light_project\\analysis\\output\n",
      "Images directory: C:\\Users\\Maintenant prêt\\Desktop\\practice projects\\sumo_traffic_light_project\\analysis\\images\n",
      "Warning: File not found - C:\\Users\\Maintenant prêt\\Desktop\\practice projects\\sumo_traffic_light_project\\analysis\\output\\tripinfo_base.xml\n",
      "Warning: File not found - C:\\Users\\Maintenant prêt\\Desktop\\practice projects\\sumo_traffic_light_project\\analysis\\output\\tripinfo_optimized.xml\n",
      "Warning: File not found - C:\\Users\\Maintenant prêt\\Desktop\\practice projects\\sumo_traffic_light_project\\analysis\\output\\tripinfo_no_tls.xml\n"
     ]
    }
   ],
   "source": [
    "# %% [markdown]\n",
    "# # SUMO Traffic Light Simulation Analysis\n",
    "\n",
    "# %%\n",
    "# Standard imports\n",
    "from pathlib import Path\n",
    "import yaml\n",
    "import pandas as pd\n",
    "import matplotlib.pyplot as plt\n",
    "import sys\n",
    "\n",
    "# Local imports\n",
    "sys.path.append('../scripts')\n",
    "from data_loader import load_tripinfo_data\n",
    "from visualization import plot_metrics, compare_scenarios\n",
    "from metrics_calculator import calculate_metrics\n",
    "\n",
    "# %%\n",
    "# Configuration Loading with Error Handling\n",
    "try:\n",
    "    config_path = Path('../config/analysis_config.yaml')\n",
    "    with open(config_path) as f:\n",
    "        config = yaml.safe_load(f)\n",
    "    \n",
    "    # Define paths with validation\n",
    "    output_dir = Path(config.get('output_dir', '../output')).resolve()\n",
    "    images_dir = Path(config.get('images_dir', '../images')).resolve()\n",
    "    \n",
    "    # Create directories if they don't exist\n",
    "    output_dir.mkdir(parents=True, exist_ok=True)\n",
    "    images_dir.mkdir(parents=True, exist_ok=True)\n",
    "    \n",
    "    print(f\"Output directory: {output_dir}\")\n",
    "    print(f\"Images directory: {images_dir}\")\n",
    "    \n",
    "    scenarios = config.get('scenarios', {})\n",
    "    \n",
    "except Exception as e:\n",
    "    print(f\"Error loading configuration: {e}\")\n",
    "    raise\n",
    "\n",
    "# %%\n",
    "# Data Processing with Error Handling\n",
    "if not scenarios:\n",
    "    print(\"Warning: No scenarios defined in config!\")\n",
    "else:\n",
    "    try:\n",
    "        scenario_dfs = {}\n",
    "        for name, path in scenarios.items():\n",
    "            file_path = output_dir / path\n",
    "            if not file_path.exists():\n",
    "                print(f\"Warning: File not found - {file_path}\")\n",
    "                continue\n",
    "                \n",
    "            df = load_tripinfo_data(file_path)\n",
    "            scenario_dfs[name] = calculate_metrics(df)\n",
    "            plot_metrics(df, name, images_dir)\n",
    "            \n",
    "    except Exception as e:\n",
    "        print(f\"Error processing data: {e}\")\n",
    "        raise"
   ]
  },
  {
   "cell_type": "code",
   "execution_count": null,
   "id": "7b6ea94b",
   "metadata": {},
   "outputs": [],
   "source": []
  },
  {
   "cell_type": "code",
   "execution_count": null,
   "id": "708d0522",
   "metadata": {},
   "outputs": [],
   "source": []
  },
  {
   "cell_type": "code",
   "execution_count": null,
   "id": "8f3f2000",
   "metadata": {},
   "outputs": [],
   "source": []
  },
  {
   "cell_type": "code",
   "execution_count": null,
   "id": "a268bb8b",
   "metadata": {},
   "outputs": [],
   "source": []
  }
 ],
 "metadata": {
  "kernelspec": {
   "display_name": "venv",
   "language": "python",
   "name": "python3"
  },
  "language_info": {
   "codemirror_mode": {
    "name": "ipython",
    "version": 3
   },
   "file_extension": ".py",
   "mimetype": "text/x-python",
   "name": "python",
   "nbconvert_exporter": "python",
   "pygments_lexer": "ipython3",
   "version": "3.12.4"
  }
 },
 "nbformat": 4,
 "nbformat_minor": 5
}
