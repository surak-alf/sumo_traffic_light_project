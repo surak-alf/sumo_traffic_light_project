{
 "cells": [
  {
   "cell_type": "code",
   "execution_count": 3,
   "id": "3d5aeefa",
   "metadata": {},
   "outputs": [
    {
     "name": "stdout",
     "output_type": "stream",
     "text": [
      "Collecting seaborn\n",
      "  Downloading seaborn-0.13.2-py3-none-any.whl.metadata (5.4 kB)\n",
      "Requirement already satisfied: numpy!=1.24.0,>=1.20 in c:\\users\\maintenant prêt\\desktop\\practice projects\\sumo_traffic_light_project\\venv\\lib\\site-packages (from seaborn) (2.3.1)\n",
      "Requirement already satisfied: pandas>=1.2 in c:\\users\\maintenant prêt\\desktop\\practice projects\\sumo_traffic_light_project\\venv\\lib\\site-packages (from seaborn) (2.3.1)\n",
      "Requirement already satisfied: matplotlib!=3.6.1,>=3.4 in c:\\users\\maintenant prêt\\desktop\\practice projects\\sumo_traffic_light_project\\venv\\lib\\site-packages (from seaborn) (3.10.3)\n",
      "Requirement already satisfied: contourpy>=1.0.1 in c:\\users\\maintenant prêt\\desktop\\practice projects\\sumo_traffic_light_project\\venv\\lib\\site-packages (from matplotlib!=3.6.1,>=3.4->seaborn) (1.3.2)\n",
      "Requirement already satisfied: cycler>=0.10 in c:\\users\\maintenant prêt\\desktop\\practice projects\\sumo_traffic_light_project\\venv\\lib\\site-packages (from matplotlib!=3.6.1,>=3.4->seaborn) (0.12.1)\n",
      "Requirement already satisfied: fonttools>=4.22.0 in c:\\users\\maintenant prêt\\desktop\\practice projects\\sumo_traffic_light_project\\venv\\lib\\site-packages (from matplotlib!=3.6.1,>=3.4->seaborn) (4.59.0)\n",
      "Requirement already satisfied: kiwisolver>=1.3.1 in c:\\users\\maintenant prêt\\desktop\\practice projects\\sumo_traffic_light_project\\venv\\lib\\site-packages (from matplotlib!=3.6.1,>=3.4->seaborn) (1.4.8)\n",
      "Requirement already satisfied: packaging>=20.0 in c:\\users\\maintenant prêt\\desktop\\practice projects\\sumo_traffic_light_project\\venv\\lib\\site-packages (from matplotlib!=3.6.1,>=3.4->seaborn) (25.0)\n",
      "Requirement already satisfied: pillow>=8 in c:\\users\\maintenant prêt\\desktop\\practice projects\\sumo_traffic_light_project\\venv\\lib\\site-packages (from matplotlib!=3.6.1,>=3.4->seaborn) (11.3.0)\n",
      "Requirement already satisfied: pyparsing>=2.3.1 in c:\\users\\maintenant prêt\\desktop\\practice projects\\sumo_traffic_light_project\\venv\\lib\\site-packages (from matplotlib!=3.6.1,>=3.4->seaborn) (3.2.3)\n",
      "Requirement already satisfied: python-dateutil>=2.7 in c:\\users\\maintenant prêt\\desktop\\practice projects\\sumo_traffic_light_project\\venv\\lib\\site-packages (from matplotlib!=3.6.1,>=3.4->seaborn) (2.9.0.post0)\n",
      "Requirement already satisfied: pytz>=2020.1 in c:\\users\\maintenant prêt\\desktop\\practice projects\\sumo_traffic_light_project\\venv\\lib\\site-packages (from pandas>=1.2->seaborn) (2025.2)\n",
      "Requirement already satisfied: tzdata>=2022.7 in c:\\users\\maintenant prêt\\desktop\\practice projects\\sumo_traffic_light_project\\venv\\lib\\site-packages (from pandas>=1.2->seaborn) (2025.2)\n",
      "Requirement already satisfied: six>=1.5 in c:\\users\\maintenant prêt\\desktop\\practice projects\\sumo_traffic_light_project\\venv\\lib\\site-packages (from python-dateutil>=2.7->matplotlib!=3.6.1,>=3.4->seaborn) (1.17.0)\n",
      "Downloading seaborn-0.13.2-py3-none-any.whl (294 kB)\n",
      "   ---------------------------------------- 0.0/294.9 kB ? eta -:--:--\n",
      "   - -------------------------------------- 10.2/294.9 kB ? eta -:--:--\n",
      "   - -------------------------------------- 10.2/294.9 kB ? eta -:--:--\n",
      "   ---- ---------------------------------- 30.7/294.9 kB 330.3 kB/s eta 0:00:01\n",
      "   ---------- ---------------------------- 81.9/294.9 kB 573.4 kB/s eta 0:00:01\n",
      "   --------------- ---------------------- 122.9/294.9 kB 602.4 kB/s eta 0:00:01\n",
      "   ----------------------------- -------- 225.3/294.9 kB 919.0 kB/s eta 0:00:01\n",
      "   ---------------------------------------- 294.9/294.9 kB 1.0 MB/s eta 0:00:00\n",
      "Installing collected packages: seaborn\n",
      "Successfully installed seaborn-0.13.2\n",
      "Note: you may need to restart the kernel to use updated packages.\n"
     ]
    },
    {
     "name": "stderr",
     "output_type": "stream",
     "text": [
      "\n",
      "[notice] A new release of pip is available: 24.0 -> 25.1.1\n",
      "[notice] To update, run: python.exe -m pip install --upgrade pip\n"
     ]
    }
   ],
   "source": [
    "pip install seaborn"
   ]
  },
  {
   "cell_type": "code",
   "execution_count": 7,
   "id": "b7caac0f",
   "metadata": {},
   "outputs": [],
   "source": [
    "import pandas as pd\n",
    "import sys\n",
    "import os\n"
   ]
  },
  {
   "cell_type": "code",
   "execution_count": 9,
   "id": "f4faa090",
   "metadata": {},
   "outputs": [],
   "source": [
    "# %% [markdown]\n",
    "# # SUMO Traffic Light Simulation Analysis\n",
    "# \n",
    "# ![Intersection](images/simulation.gif)\n",
    "\n",
    "# %%\n",
    "import sys\n",
    "sys.path.append('../scripts')\n",
    "from data_loader import load_tripinfo_data\n",
    "from visualization import plot_metrics, compare_scenarios\n",
    "from metrics_calculator import calculate_metrics\n",
    "\n",
    "import yaml\n",
    "import pandas as pd\n",
    "import matplotlib.pyplot as plt\n"
   ]
  },
  {
   "cell_type": "code",
   "execution_count": 10,
   "id": "9452447e",
   "metadata": {},
   "outputs": [
    {
     "ename": "NameError",
     "evalue": "name 'Path' is not defined",
     "output_type": "error",
     "traceback": [
      "\u001b[31m---------------------------------------------------------------------------\u001b[39m",
      "\u001b[31mNameError\u001b[39m                                 Traceback (most recent call last)",
      "\u001b[36mCell\u001b[39m\u001b[36m \u001b[39m\u001b[32mIn[10]\u001b[39m\u001b[32m, line 7\u001b[39m\n\u001b[32m      4\u001b[39m     config = yaml.safe_load(f)\n\u001b[32m      6\u001b[39m scenarios = config[\u001b[33m'\u001b[39m\u001b[33mscenarios\u001b[39m\u001b[33m'\u001b[39m]\n\u001b[32m----> \u001b[39m\u001b[32m7\u001b[39m output_dir = \u001b[43mPath\u001b[49m(config[\u001b[33m'\u001b[39m\u001b[33moutput_dir\u001b[39m\u001b[33m'\u001b[39m])\n\u001b[32m      8\u001b[39m images_dir = Path(config[\u001b[33m'\u001b[39m\u001b[33mimages_dir\u001b[39m\u001b[33m'\u001b[39m])\n\u001b[32m     10\u001b[39m \u001b[38;5;66;03m# %%\u001b[39;00m\n\u001b[32m     11\u001b[39m \u001b[38;5;66;03m# Load and process all scenario data\u001b[39;00m\n",
      "\u001b[31mNameError\u001b[39m: name 'Path' is not defined"
     ]
    }
   ],
   "source": [
    "# %%\n",
    "# Load configuration\n",
    "with open('../config/analysis_config.yaml') as f:\n",
    "    config = yaml.safe_load(f)\n",
    "\n",
    "scenarios = config['scenarios']\n",
    "output_dir = Path(config['output_dir'])\n",
    "images_dir = Path(config['images_dir'])\n",
    "\n",
    "# %%\n",
    "# Load and process all scenario data\n",
    "scenario_dfs = {}\n",
    "for name, path in scenarios.items():\n",
    "    df = load_tripinfo_data(output_dir / path)\n",
    "    scenario_dfs[name] = calculate_metrics(df)\n",
    "    plot_metrics(df, name, images_dir)\n",
    "\n",
    "# %%\n",
    "# Generate comparison report\n",
    "comparison_df = compare_scenarios(scenario_dfs, images_dir)\n",
    "comparison_df.style.background_gradient(cmap='viridis')\n"
   ]
  },
  {
   "cell_type": "code",
   "execution_count": 11,
   "id": "58e49403",
   "metadata": {},
   "outputs": [],
   "source": [
    "# Standard library imports\n",
    "from pathlib import Path\n",
    "import sys\n",
    "\n",
    "# Third-party imports\n",
    "import yaml\n",
    "import pandas as pd\n",
    "import numpy as np\n",
    "import matplotlib.pyplot as plt\n",
    "import seaborn as sns\n",
    "\n",
    "# Local imports (if using the scripts/ folder)\n",
    "sys.path.append('../scripts')\n",
    "from data_loader import load_tripinfo_data\n",
    "from visualization import plot_metrics"
   ]
  },
  {
   "cell_type": "code",
   "execution_count": 12,
   "metadata": {},
   "outputs": [
    {
     "ename": "NameError",
     "evalue": "name 'output_dir' is not defined",
     "output_type": "error",
     "traceback": [
      "\u001b[31m---------------------------------------------------------------------------\u001b[39m",
      "\u001b[31mNameError\u001b[39m                                 Traceback (most recent call last)",
      "\u001b[36mCell\u001b[39m\u001b[36m \u001b[39m\u001b[32mIn[12]\u001b[39m\u001b[32m, line 1\u001b[39m\n\u001b[32m----> \u001b[39m\u001b[32m1\u001b[39m \u001b[43moutput_dir\u001b[49m.mkdir(parents=\u001b[38;5;28;01mTrue\u001b[39;00m, exist_ok=\u001b[38;5;28;01mTrue\u001b[39;00m)\n\u001b[32m      2\u001b[39m images_dir.mkdir(parents=\u001b[38;5;28;01mTrue\u001b[39;00m, exist_ok=\u001b[38;5;28;01mTrue\u001b[39;00m)\n\u001b[32m      4\u001b[39m \u001b[38;5;28mprint\u001b[39m(\u001b[33mf\u001b[39m\u001b[33m\"\u001b[39m\u001b[33mOutput directory: \u001b[39m\u001b[38;5;132;01m{\u001b[39;00moutput_dir.resolve()\u001b[38;5;132;01m}\u001b[39;00m\u001b[33m\"\u001b[39m)\n",
      "\u001b[31mNameError\u001b[39m: name 'output_dir' is not defined"
     ]
    }
   ],
   "source": [
    "output_dir.mkdir(parents=True, exist_ok=True)\n",
    "images_dir.mkdir(parents=True, exist_ok=True)\n",
    "\n",
    "print(f\"Output directory: {output_dir.resolve()}\")\n",
    "print(f\"Images directory: {images_dir.resolve()}\")"
   ]
  },
  {
   "cell_type": "code",
   "execution_count": 14,
   "metadata": {},
   "outputs": [
    {
     "name": "stdout",
     "output_type": "stream",
     "text": [
      "Output directory: C:\\Users\\Maintenant prêt\\Desktop\\practice projects\\sumo_traffic_light_project\\analysis\\output\n",
      "Images directory: C:\\Users\\Maintenant prêt\\Desktop\\practice projects\\sumo_traffic_light_project\\analysis\\images\n",
      "Warning: File not found - C:\\Users\\Maintenant prêt\\Desktop\\practice projects\\sumo_traffic_light_project\\analysis\\output\\tripinfo_base.xml\n",
      "Warning: File not found - C:\\Users\\Maintenant prêt\\Desktop\\practice projects\\sumo_traffic_light_project\\analysis\\output\\tripinfo_optimized.xml\n",
      "Warning: File not found - C:\\Users\\Maintenant prêt\\Desktop\\practice projects\\sumo_traffic_light_project\\analysis\\output\\tripinfo_no_tls.xml\n"
     ]
    }
   ],
   "source": [
    "# %% [markdown]\n",
    "# # SUMO Traffic Light Simulation Analysis\n",
    "\n",
    "# %%\n",
    "# Standard imports\n",
    "from pathlib import Path\n",
    "import yaml\n",
    "import pandas as pd\n",
    "import matplotlib.pyplot as plt\n",
    "import sys\n",
    "\n",
    "# Local imports\n",
    "sys.path.append('../scripts')\n",
    "from data_loader import load_tripinfo_data\n",
    "from visualization import plot_metrics, compare_scenarios\n",
    "from metrics_calculator import calculate_metrics\n",
    "\n",
    "# %%\n",
    "# Configuration Loading with Error Handling\n",
    "try:\n",
    "    config_path = Path('../config/analysis_config.yaml')\n",
    "    with open(config_path) as f:\n",
    "        config = yaml.safe_load(f)\n",
    "    \n",
    "    # Define paths with validation\n",
    "    output_dir = Path(config.get('output_dir', '../output')).resolve()\n",
    "    images_dir = Path(config.get('images_dir', '../images')).resolve()\n",
    "    \n",
    "    # Create directories if they don't exist\n",
    "    output_dir.mkdir(parents=True, exist_ok=True)\n",
    "    images_dir.mkdir(parents=True, exist_ok=True)\n",
    "    \n",
    "    print(f\"Output directory: {output_dir}\")\n",
    "    print(f\"Images directory: {images_dir}\")\n",
    "    \n",
    "    scenarios = config.get('scenarios', {})\n",
    "    \n",
    "except Exception as e:\n",
    "    print(f\"Error loading configuration: {e}\")\n",
    "    raise\n",
    "\n",
    "# %%\n",
    "# Data Processing with Error Handling\n",
    "if not scenarios:\n",
    "    print(\"Warning: No scenarios defined in config!\")\n",
    "else:\n",
    "    try:\n",
    "        scenario_dfs = {}\n",
    "        for name, path in scenarios.items():\n",
    "            file_path = output_dir / path\n",
    "            if not file_path.exists():\n",
    "                print(f\"Warning: File not found - {file_path}\")\n",
    "                continue\n",
    "                \n",
    "            df = load_tripinfo_data(file_path)\n",
    "            scenario_dfs[name] = calculate_metrics(df)\n",
    "            plot_metrics(df, name, images_dir)\n",
    "            \n",
    "    except Exception as e:\n",
    "        print(f\"Error processing data: {e}\")\n",
    "        raise"
   ]
  },
  {
   "cell_type": "code",
   "execution_count": null,
   "metadata": {},
   "outputs": [],
   "source": []
  },
  {
   "cell_type": "code",
   "execution_count": null,
   "id": "f10eb766",
   "metadata": {},
   "outputs": [],
   "source": [
    "# %%\n",
    "# Advanced Analysis: Time-of-Day Patterns\n",
    "hourly_metrics = []\n",
    "for name, df in scenario_dfs.items():\n",
    "    df['hour'] = df['depart'] // 3600\n",
    "    hourly = df.groupby('hour').agg({\n",
    "        'duration': 'mean',\n",
    "        'waiting_time': 'mean',\n",
    "        'speed': 'mean'\n",
    "    })\n",
    "    hourly['scenario'] = name\n",
    "    hourly_metrics.append(hourly)\n",
    "\n",
    "pd.concat(hourly_metrics).pivot_table(\n",
    "    index='hour', \n",
    "    columns='scenario', \n",
    "    values=['duration', 'waiting_time']\n",
    ").plot(subplots=True, figsize=(12, 8))\n",
    "plt.savefig(images_dir / 'hourly_comparison.png')"
   ]
  },
  {
   "cell_type": "code",
   "execution_count": null,
   "id": "708d0522",
   "metadata": {},
   "outputs": [],
   "source": []
  },
  {
   "cell_type": "code",
   "execution_count": null,
   "id": "8f3f2000",
   "metadata": {},
   "outputs": [],
   "source": []
  },
  {
   "cell_type": "code",
   "execution_count": 2,
   "id": "382ff8e4",
   "metadata": {},
   "outputs": [
    {
     "ename": "ModuleNotFoundError",
     "evalue": "No module named 'pandas'",
     "output_type": "error",
     "traceback": [
      "\u001b[31m---------------------------------------------------------------------------\u001b[39m",
      "\u001b[31mModuleNotFoundError\u001b[39m                       Traceback (most recent call last)",
      "\u001b[36mCell\u001b[39m\u001b[36m \u001b[39m\u001b[32mIn[2]\u001b[39m\u001b[32m, line 9\u001b[39m\n\u001b[32m      7\u001b[39m \u001b[38;5;28;01mimport\u001b[39;00m\u001b[38;5;250m \u001b[39m\u001b[34;01msys\u001b[39;00m\n\u001b[32m      8\u001b[39m sys.path.append(\u001b[33m'\u001b[39m\u001b[33m../scripts\u001b[39m\u001b[33m'\u001b[39m)\n\u001b[32m----> \u001b[39m\u001b[32m9\u001b[39m \u001b[38;5;28;01mfrom\u001b[39;00m\u001b[38;5;250m \u001b[39m\u001b[34;01mdata_loader\u001b[39;00m\u001b[38;5;250m \u001b[39m\u001b[38;5;28;01mimport\u001b[39;00m load_tripinfo_data\n\u001b[32m     10\u001b[39m \u001b[38;5;28;01mfrom\u001b[39;00m\u001b[38;5;250m \u001b[39m\u001b[34;01mvisualization\u001b[39;00m\u001b[38;5;250m \u001b[39m\u001b[38;5;28;01mimport\u001b[39;00m plot_metrics, compare_scenarios\n\u001b[32m     11\u001b[39m \u001b[38;5;28;01mfrom\u001b[39;00m\u001b[38;5;250m \u001b[39m\u001b[34;01mmetrics_calculator\u001b[39;00m\u001b[38;5;250m \u001b[39m\u001b[38;5;28;01mimport\u001b[39;00m calculate_metrics\n",
      "\u001b[36mFile \u001b[39m\u001b[32mc:\\Users\\Maintenant prêt\\Desktop\\practice projects\\sumo_traffic_light_project\\analysis\\notebook\\../scripts\\data_loader.py:3\u001b[39m\n\u001b[32m      1\u001b[39m \u001b[38;5;28;01mfrom\u001b[39;00m\u001b[38;5;250m \u001b[39m\u001b[34;01mpathlib\u001b[39;00m\u001b[38;5;250m \u001b[39m\u001b[38;5;28;01mimport\u001b[39;00m Path\n\u001b[32m      2\u001b[39m \u001b[38;5;28;01mimport\u001b[39;00m\u001b[38;5;250m \u001b[39m\u001b[34;01mxml\u001b[39;00m\u001b[34;01m.\u001b[39;00m\u001b[34;01metree\u001b[39;00m\u001b[34;01m.\u001b[39;00m\u001b[34;01mElementTree\u001b[39;00m\u001b[38;5;250m \u001b[39m\u001b[38;5;28;01mas\u001b[39;00m\u001b[38;5;250m \u001b[39m\u001b[34;01mET\u001b[39;00m\n\u001b[32m----> \u001b[39m\u001b[32m3\u001b[39m \u001b[38;5;28;01mimport\u001b[39;00m\u001b[38;5;250m \u001b[39m\u001b[34;01mpandas\u001b[39;00m\u001b[38;5;250m \u001b[39m\u001b[38;5;28;01mas\u001b[39;00m\u001b[38;5;250m \u001b[39m\u001b[34;01mpd\u001b[39;00m\n\u001b[32m      5\u001b[39m \u001b[38;5;28;01mdef\u001b[39;00m\u001b[38;5;250m \u001b[39m\u001b[34mload_tripinfo_data\u001b[39m(file_path: Path) -> pd.DataFrame:\n\u001b[32m      6\u001b[39m \u001b[38;5;250m    \u001b[39m\u001b[33;03m\"\"\"Load SUMO tripinfo XML file into DataFrame\"\"\"\u001b[39;00m\n",
      "\u001b[31mModuleNotFoundError\u001b[39m: No module named 'pandas'"
     ]
    }
   ],
   "source": [
    "# %% [markdown]\n",
    "# # SUMO Traffic Light Simulation Analysis\n",
    "# \n",
    "# ![Intersection](images/simulation.gif)\n",
    "\n",
    "# %%\n",
    "import sys\n",
    "sys.path.append('../scripts')\n",
    "from data_loader import load_tripinfo_data\n",
    "from visualization import plot_metrics, compare_scenarios\n",
    "from metrics_calculator import calculate_metrics\n",
    "\n",
    "import yaml\n",
    "import pandas as pd\n",
    "import matplotlib.pyplot as plt\n",
    "\n",
    "# %%\n",
    "# Load configuration\n",
    "with open('../config/analysis_config.yaml') as f:\n",
    "    config = yaml.safe_load(f)\n",
    "\n",
    "scenarios = config['scenarios']\n",
    "output_dir = Path(config['output_dir'])\n",
    "images_dir = Path(config['images_dir'])\n",
    "\n",
    "# %%\n",
    "# Load and process all scenario data\n",
    "scenario_dfs = {}\n",
    "for name, path in scenarios.items():\n",
    "    df = load_tripinfo_data(output_dir / path)\n",
    "    scenario_dfs[name] = calculate_metrics(df)\n",
    "    plot_metrics(df, name, images_dir)\n",
    "\n",
    "# %%\n",
    "# Generate comparison report\n",
    "comparison_df = compare_scenarios(scenario_dfs, images_dir)\n",
    "comparison_df.style.background_gradient(cmap='viridis')\n",
    "\n",
    "# %%\n",
    "# Advanced Analysis: Time-of-Day Patterns\n",
    "hourly_metrics = []\n",
    "for name, df in scenario_dfs.items():\n",
    "    df['hour'] = df['depart'] // 3600\n",
    "    hourly = df.groupby('hour').agg({\n",
    "        'duration': 'mean',\n",
    "        'waiting_time': 'mean',\n",
    "        'speed': 'mean'\n",
    "    })\n",
    "    hourly['scenario'] = name\n",
    "    hourly_metrics.append(hourly)\n",
    "\n",
    "pd.concat(hourly_metrics).pivot_table(\n",
    "    index='hour', \n",
    "    columns='scenario', \n",
    "    values=['duration', 'waiting_time']\n",
    ").plot(subplots=True, figsize=(12, 8))\n",
    "plt.savefig(images_dir / 'hourly_comparison.png')"
   ]
  },
  {
   "cell_type": "code",
   "execution_count": null,
   "id": "a268bb8b",
   "metadata": {},
   "outputs": [],
   "source": []
  },
  {
   "cell_type": "code",
   "execution_count": null,
   "id": "8e91144c",
   "metadata": {},
   "outputs": [],
   "source": []
  }
 ],
 "metadata": {
  "kernelspec": {
   "display_name": "venv",
   "language": "python",
   "name": "python3"
  },
  "language_info": {
   "codemirror_mode": {
    "name": "ipython",
    "version": 3
   },
   "file_extension": ".py",
   "mimetype": "text/x-python",
   "name": "python",
   "nbconvert_exporter": "python",
   "pygments_lexer": "ipython3",
   "version": "3.12.4"
  }
 },
 "nbformat": 4,
 "nbformat_minor": 5
}
