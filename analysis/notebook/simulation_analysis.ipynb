{
 "cells": [
  {
   "cell_type": "code",
   "execution_count": null,
   "id": "f4a588bc",
   "metadata": {},
   "outputs": [],
   "source": []
  },
  {
   "cell_type": "code",
   "execution_count": null,
   "id": "fac579b4",
   "metadata": {},
   "outputs": [],
   "source": []
  },
  {
   "cell_type": "markdown",
   "id": "b19667be",
   "metadata": {},
   "source": [
    "# %% [markdown]\n",
    "# # SUMO Traffic Light Simulation Analysis\n",
    "# \n",
    "# ![Intersection](images/simulation.gif)\n",
    "\n",
    "# %%"
   ]
  },
  {
   "cell_type": "code",
   "execution_count": null,
   "id": "2bab977d",
   "metadata": {},
   "outputs": [],
   "source": [
    "import sys\n",
    "sys.path.append('../scripts')\n",
    "from data_loader import load_tripinfo_data\n",
    "from visualization import plot_metrics, compare_scenarios\n",
    "from metrics_calculator import calculate_metrics\n",
    "\n",
    "import yaml\n",
    "import pandas as pd\n",
    "import matplotlib.pyplot as plt\n",
    "\n",
    "# %%\n",
    "# Load configuration\n",
    "with open('../config/analysis_config.yaml') as f:\n",
    "    config = yaml.safe_load(f)\n",
    "\n",
    "scenarios = config['scenarios']\n",
    "output_dir = Path(config['output_dir'])\n",
    "images_dir = Path(config['images_dir'])\n",
    "\n",
    "# %%\n",
    "# Load and process all scenario data\n",
    "scenario_dfs = {}\n",
    "for name, path in scenarios.items():\n",
    "    df = load_tripinfo_data(output_dir / path)\n",
    "    scenario_dfs[name] = calculate_metrics(df)\n",
    "    plot_metrics(df, name, images_dir)\n",
    "\n",
    "# %%\n",
    "# Generate comparison report\n",
    "comparison_df = compare_scenarios(scenario_dfs, images_dir)\n",
    "comparison_df.style.background_gradient(cmap='viridis')\n",
    "\n",
    "# %%\n",
    "# Advanced Analysis: Time-of-Day Patterns\n",
    "hourly_metrics = []\n",
    "for name, df in scenario_dfs.items():\n",
    "    df['hour'] = df['depart'] // 3600\n",
    "    hourly = df.groupby('hour').agg({\n",
    "        'duration': 'mean',\n",
    "        'waiting_time': 'mean',\n",
    "        'speed': 'mean'\n",
    "    })\n",
    "    hourly['scenario'] = name\n",
    "    hourly_metrics.append(hourly)\n",
    "\n",
    "pd.concat(hourly_metrics).pivot_table(\n",
    "    index='hour', \n",
    "    columns='scenario', \n",
    "    values=['duration', 'waiting_time']\n",
    ").plot(subplots=True, figsize=(12, 8))\n",
    "plt.savefig(images_dir / 'hourly_comparison.png')"
   ]
  },
  {
   "cell_type": "code",
   "execution_count": null,
   "id": "382ff8e4",
   "metadata": {},
   "outputs": [],
   "source": []
  },
  {
   "cell_type": "code",
   "execution_count": null,
   "id": "8e91144c",
   "metadata": {},
   "outputs": [],
   "source": []
  }
 ],
 "metadata": {
  "kernelspec": {
   "display_name": "venv",
   "language": "python",
   "name": "python3"
  },
  "language_info": {
   "codemirror_mode": {
    "name": "ipython",
    "version": 3
   },
   "file_extension": ".py",
   "mimetype": "text/x-python",
   "name": "python",
   "nbconvert_exporter": "python",
   "pygments_lexer": "ipython3",
   "version": "3.12.4"
  }
 },
 "nbformat": 4,
 "nbformat_minor": 5
}
